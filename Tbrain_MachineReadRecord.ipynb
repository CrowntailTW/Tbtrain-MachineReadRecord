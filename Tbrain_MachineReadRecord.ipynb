{
 "cells": [
  {
   "cell_type": "code",
   "execution_count": 1,
   "metadata": {
    "colab": {
     "base_uri": "https://localhost:8080/"
    },
    "id": "p_pL97n137Te",
    "outputId": "909848b2-70cf-4680-c8fc-dd33b19d41a2"
   },
   "outputs": [],
   "source": [
    "# !pip install bert-for-tf2"
   ]
  },
  {
   "cell_type": "code",
   "execution_count": 1,
   "metadata": {
    "id": "ssV3iJ5RvK67"
   },
   "outputs": [],
   "source": [
    "# https://www.kaggle.com/sushanth1995/text-classification-with-bert-xgboost\n",
    "import os\n",
    "import numpy as np\n",
    "import pandas as pd\n",
    "import matplotlib.pyplot as plt\n",
    "from sklearn.model_selection import train_test_split\n",
    "from sklearn.metrics import accuracy_score, confusion_matrix, f1_score\n",
    "\n",
    "# from keras.preprocessing.text import Tokenizer\n",
    "# from keras.preprocessing.sequence import pad_sequences\n",
    "# from tqdm import tqdm\n",
    "# from keras.models import Sequential\n",
    "# from keras.layers import Embedding,LSTM,Dense,SpatialDropout1D\n",
    "# from keras.initializers import Constant\n",
    "# from keras.optimizers import Adam\n",
    "# from keras import regularizers\n",
    "# import keras.backend as K\n",
    "\n",
    "import tensorflow as tf\n",
    "from tensorflow.keras.layers import Dense, Input, Dropout\n",
    "from tensorflow.keras.optimizers import Adam,SGD\n",
    "from tensorflow.keras.models import Model\n",
    "from tensorflow.keras import regularizers\n",
    "from tensorflow.keras.callbacks import ModelCheckpoint\n",
    "from tensorflow.keras.utils import to_categorical\n",
    "\n",
    "import tensorflow.keras.backend as K\n",
    "\n",
    "import tensorflow_hub as hub\n",
    "\n",
    "try:\n",
    "    %tensorflow_version 2.x\n",
    "except Exception:\n",
    "    pass\n",
    "import tensorflow as tf\n",
    "\n",
    "import tensorflow_hub as hub\n",
    "\n",
    "from tensorflow.keras import layers\n",
    "import bert\n",
    "\n"
   ]
  },
  {
   "cell_type": "code",
   "execution_count": 2,
   "metadata": {
    "colab": {
     "base_uri": "https://localhost:8080/",
     "height": 35
    },
    "id": "1YIZTedwvR9S",
    "outputId": "d14fd8e0-2d34-426d-c805-0e4af1c9177c"
   },
   "outputs": [
    {
     "data": {
      "text/plain": [
       "'2.3.0'"
      ]
     },
     "execution_count": 2,
     "metadata": {},
     "output_type": "execute_result"
    }
   ],
   "source": [
    "tf.__version__"
   ]
  },
  {
   "cell_type": "code",
   "execution_count": 3,
   "metadata": {
    "colab": {
     "base_uri": "https://localhost:8080/"
    },
    "id": "tqUFbm-pykBQ",
    "outputId": "fd73d3e7-5110-4fd1-891d-36703cff6a0a"
   },
   "outputs": [
    {
     "name": "stdout",
     "output_type": "stream",
     "text": [
      "Num GPUs Available:  0\n"
     ]
    }
   ],
   "source": [
    "import tensorflow as tf\n",
    "print(\"Num GPUs Available: \", len(tf.config.experimental.list_physical_devices('GPU')))"
   ]
  },
  {
   "cell_type": "code",
   "execution_count": 4,
   "metadata": {
    "colab": {
     "base_uri": "https://localhost:8080/"
    },
    "id": "_E50Bmh9ykD0",
    "outputId": "c593d7d7-b95c-43df-ad37-cd155020d949"
   },
   "outputs": [
    {
     "name": "stdout",
     "output_type": "stream",
     "text": [
      "WARNING:tensorflow:From <ipython-input-4-cb50da41978a>:3: is_gpu_available (from tensorflow.python.framework.test_util) is deprecated and will be removed in a future version.\n",
      "Instructions for updating:\n",
      "Use `tf.config.list_physical_devices('GPU')` instead.\n",
      "***If TF can access GPU: ***\n",
      "\n",
      " False\n"
     ]
    }
   ],
   "source": [
    "value = tf.test.is_gpu_available(\n",
    "    cuda_only=False,\n",
    "    min_cuda_compute_capability=None\n",
    ")\n",
    "print ('***If TF can access GPU: ***\\n\\n',value) # MUST RETURN True IF IT CAN!!"
   ]
  },
  {
   "cell_type": "code",
   "execution_count": 5,
   "metadata": {
    "id": "ZAg3L59SykF4"
   },
   "outputs": [],
   "source": [
    "def recall_m(y_true, y_pred):\n",
    "    true_positives = K.sum(K.round(K.clip(y_true * y_pred, 0, 1)))\n",
    "    possible_positives = K.sum(K.round(K.clip(y_true, 0, 1)))\n",
    "    recall = true_positives / (possible_positives + K.epsilon())\n",
    "    return recall\n",
    "\n",
    "def precision_m(y_true, y_pred):\n",
    "    true_positives = K.sum(K.round(K.clip(y_true * y_pred, 0, 1)))\n",
    "    predicted_positives = K.sum(K.round(K.clip(y_pred, 0, 1)))\n",
    "    precision = true_positives / (predicted_positives + K.epsilon())\n",
    "    return precision\n",
    "\n",
    "def f1_m(y_true, y_pred):\n",
    "    precision = precision_m(y_true, y_pred)\n",
    "    recall = recall_m(y_true, y_pred)\n",
    "    return 2*((precision*recall)/(precision+recall+K.epsilon()))"
   ]
  },
  {
   "cell_type": "code",
   "execution_count": 6,
   "metadata": {
    "id": "Vv0Izc60ykID"
   },
   "outputs": [],
   "source": [
    "pathMain = r'/content/drive/MyDrive/colab/Tbrain/data/'\n",
    "pathMain = r'./data/'\n",
    "train= pd.read_csv(os.path.join(pathMain,'trainset_proc2.csv'))\n",
    "test= pd.read_csv(os.path.join(pathMain,'testset_proc2.csv'))\n",
    "test.set_index(test['Id'],inplace=True)"
   ]
  },
  {
   "cell_type": "code",
   "execution_count": 7,
   "metadata": {
    "colab": {
     "base_uri": "https://localhost:8080/"
    },
    "id": "c-NlQIbQykKU",
    "outputId": "7f2573f1-31a5-404b-a85f-e7b2da6c0a55"
   },
   "outputs": [
    {
     "data": {
      "text/plain": [
       "Index(['Title', 'Abstract', 'Classifications', 'Abstract_proc', 'Title_proc',\n",
       "       'OTHERS', 'ENGINEERING', 'EMPIRICAL', 'THEORETICAL',\n",
       "       'Title_Abstract_proc'],\n",
       "      dtype='object')"
      ]
     },
     "execution_count": 7,
     "metadata": {},
     "output_type": "execute_result"
    }
   ],
   "source": [
    "train.columns"
   ]
  },
  {
   "cell_type": "code",
   "execution_count": null,
   "metadata": {
    "id": "I_15PmWsykMl"
   },
   "outputs": [],
   "source": []
  },
  {
   "cell_type": "markdown",
   "metadata": {
    "id": "BIs6zegcIaKZ"
   },
   "source": [
    "# EDA"
   ]
  },
  {
   "cell_type": "code",
   "execution_count": 8,
   "metadata": {
    "colab": {
     "base_uri": "https://localhost:8080/"
    },
    "id": "_mOcM6oLIZS4",
    "outputId": "cb71d600-a0a4-41d6-a8f8-17049eb4b5ea"
   },
   "outputs": [
    {
     "name": "stdout",
     "output_type": "stream",
     "text": [
      "!!!! OTRHER CLASSIFICATION IS UNIQUE\n",
      "and 13      OTHERS\n",
      "32      OTHERS\n",
      "34      OTHERS\n",
      "43      OTHERS\n",
      "51      OTHERS\n",
      "         ...  \n",
      "6904    OTHERS\n",
      "6941    OTHERS\n",
      "6960    OTHERS\n",
      "6961    OTHERS\n",
      "6991    OTHERS\n",
      "Name: Classifications, Length: 259, dtype: object\n"
     ]
    }
   ],
   "source": [
    "if len(set(train.loc[train.OTHERS==1,'Classifications'] )) ==1: print('!!!! OTRHER CLASSIFICATION IS UNIQUE')\n",
    "print('and',train.loc[train.OTHERS==1,'Classifications'])"
   ]
  },
  {
   "cell_type": "code",
   "execution_count": 9,
   "metadata": {
    "colab": {
     "base_uri": "https://localhost:8080/",
     "height": 386
    },
    "id": "XmO0rDaeIfNJ",
    "outputId": "f83dd9aa-bddc-4eb5-ac13-44519a152a43"
   },
   "outputs": [
    {
     "data": {
      "text/plain": [
       "<seaborn.axisgrid.FacetGrid at 0x14850b57508>"
      ]
     },
     "execution_count": 9,
     "metadata": {},
     "output_type": "execute_result"
    },
    {
     "data": {
      "image/png": "[encoded data removed]",
      "text/plain": [
       "<Figure size 360x360 with 1 Axes>"
      ]
     },
     "metadata": {
      "needs_background": "light"
     },
     "output_type": "display_data"
    }
   ],
   "source": [
    "import seaborn as sns\n",
    "sns.displot(np.array([len(s) for s in train.Abstract_proc]))"
   ]
  },
  {
   "cell_type": "code",
   "execution_count": 10,
   "metadata": {
    "colab": {
     "base_uri": "https://localhost:8080/"
    },
    "id": "KLhyXLjJIiM2",
    "outputId": "4094590f-3559-48e3-a30c-344828c49f8f"
   },
   "outputs": [
    {
     "data": {
      "text/plain": [
       "0"
      ]
     },
     "execution_count": 10,
     "metadata": {},
     "output_type": "execute_result"
    }
   ],
   "source": [
    "train['Abstract_proc'][5].count('paper')"
   ]
  },
  {
   "cell_type": "code",
   "execution_count": 11,
   "metadata": {
    "colab": {
     "base_uri": "https://localhost:8080/"
    },
    "id": "q8cmS0OnRiFq",
    "outputId": "4c9978f0-9a51-49b8-ebbb-205a59d6b41d"
   },
   "outputs": [
    {
     "data": {
      "text/plain": [
       "Id\n",
       "1        efficient visual coding retina v human visual ...\n",
       "2        polymorph increasing p spelling efficiency sel...\n",
       "3        cooperative cognitive networks optimal distrib...\n",
       "4        indoor occupancy estimation carbon dioxide con...\n",
       "5        lower bound general circuits computing clique ...\n",
       "                               ...                        \n",
       "39996    structure recognition leaf powers galled phylo...\n",
       "39997    extended report implicit calculus generic prog...\n",
       "39998    congusto htcondor graphical unified supervisin...\n",
       "39999    protein folding hexagonal prism lattice diagon...\n",
       "40000    modelling temporal information discrete fourie...\n",
       "Name: Title_Abstract_proc, Length: 40000, dtype: object"
      ]
     },
     "execution_count": 11,
     "metadata": {},
     "output_type": "execute_result"
    }
   ],
   "source": [
    "test['Title_Abstract_proc'] \n"
   ]
  },
  {
   "cell_type": "code",
   "execution_count": 12,
   "metadata": {
    "colab": {
     "base_uri": "https://localhost:8080/"
    },
    "id": "iz8M772iwBlR",
    "outputId": "e0ba1239-d20b-4a3b-8414-c1708975d9e5"
   },
   "outputs": [
    {
     "data": {
      "text/plain": [
       "Id\n",
       "1        efficient visual coding retina v human visual ...\n",
       "2        polymorph increasing p spelling efficiency sel...\n",
       "3        cooperative cognitive networks optimal distrib...\n",
       "4        indoor occupancy estimation carbon dioxide con...\n",
       "5        lower bound general circuits computing clique ...\n",
       "                               ...                        \n",
       "39996    structure recognition leaf powers galled phylo...\n",
       "39997    extended report implicit calculus generic prog...\n",
       "39998    congusto htcondor graphical unified supervisin...\n",
       "39999    protein folding hexagonal prism lattice diagon...\n",
       "40000    modelling temporal information discrete fourie...\n",
       "Name: Title_Abstract_proc, Length: 40000, dtype: object"
      ]
     },
     "execution_count": 12,
     "metadata": {},
     "output_type": "execute_result"
    }
   ],
   "source": [
    "test['Title_Abstract_proc'] "
   ]
  },
  {
   "cell_type": "code",
   "execution_count": 13,
   "metadata": {
    "id": "kF62X83hj6E6"
   },
   "outputs": [],
   "source": [
    "trainSet = set([w for s in train['Title_Abstract_proc'] for w in s.split(' ')])\n",
    "testSet = set([w for s in test['Title_Abstract_proc'] for w in s.split(' ')])"
   ]
  },
  {
   "cell_type": "code",
   "execution_count": 14,
   "metadata": {
    "id": "l5D6yBUPIiKL"
   },
   "outputs": [],
   "source": [
    "wordSetOnlyInTest = testSet - trainSet"
   ]
  },
  {
   "cell_type": "code",
   "execution_count": 15,
   "metadata": {
    "id": "T3_qed-BkhPx"
   },
   "outputs": [],
   "source": [
    "def removeWordOnlyInTest(text):\n",
    "    return ' '.join([word for word in text.split(' ') if word not in wordSetOnlyInTest])\n",
    "\n",
    "train['Abstract_proc'] = train['Abstract_proc'].apply(removeWordOnlyInTest )"
   ]
  },
  {
   "cell_type": "code",
   "execution_count": 16,
   "metadata": {
    "colab": {
     "base_uri": "https://localhost:8080/"
    },
    "id": "5oOLNUq9IhZZ",
    "outputId": "870bb1e7-0979-4f22-b5b7-74d95302f960"
   },
   "outputs": [
    {
     "data": {
      "text/plain": [
       "0       distinctiveness complexity repeatability onlin...\n",
       "1       adaptable fast matrix multiplication algorithm...\n",
       "2       trimming multipath efficient dynamic routing m...\n",
       "3       learning word embeddings speech paper propose ...\n",
       "4       unified model near remote sensing propose nove...\n",
       "                              ...                        \n",
       "6995    small vulnerable sets determine large network ...\n",
       "6996    emergence humancomparable balancing behaviors ...\n",
       "6997    neural paraphrase generation stacked residual ...\n",
       "6998    efficient twitter sentiment classification sub...\n",
       "6999    energy efficient barring factor enabled extend...\n",
       "Name: Title_Abstract_proc, Length: 7000, dtype: object"
      ]
     },
     "execution_count": 16,
     "metadata": {},
     "output_type": "execute_result"
    }
   ],
   "source": [
    "train.Title_Abstract_proc"
   ]
  },
  {
   "cell_type": "code",
   "execution_count": 17,
   "metadata": {
    "colab": {
     "base_uri": "https://localhost:8080/"
    },
    "id": "j90jTBi6Lry-",
    "outputId": "f529a988-7378-4ddc-da08-8da23ad1740e"
   },
   "outputs": [
    {
     "data": {
      "text/plain": [
       "221"
      ]
     },
     "execution_count": 17,
     "metadata": {},
     "output_type": "execute_result"
    }
   ],
   "source": [
    "import gc\n",
    "\n",
    "del wordSetOnlyInTest\n",
    "\n",
    "gc.collect()"
   ]
  },
  {
   "cell_type": "markdown",
   "metadata": {
    "id": "z0dkSTOg4o27"
   },
   "source": [
    "# BERT Encodings"
   ]
  },
  {
   "cell_type": "code",
   "execution_count": 18,
   "metadata": {
    "id": "6vM-LwdtykO4"
   },
   "outputs": [],
   "source": [
    "max_len = 120"
   ]
  },
  {
   "cell_type": "code",
   "execution_count": 22,
   "metadata": {
    "id": "V3U0wnk6ykRE"
   },
   "outputs": [],
   "source": [
    "\"\"\"BERT Methods Predefined\"\"\"\n",
    "def bert_encode(texts, tokenizer, max_len=max_len):\n",
    "    all_tokens = []\n",
    "    all_masks = []\n",
    "    all_segments = []\n",
    "    \n",
    "    for text in texts:\n",
    "        text = tokenizer.tokenize(text)\n",
    "            \n",
    "        text = text[:max_len-2]\n",
    "        input_sequence = [\"[CLS]\"] + text + [\"[SEP]\"]\n",
    "        pad_len = max_len - len(input_sequence)\n",
    "        \n",
    "        tokens = tokenizer.convert_tokens_to_ids(input_sequence)\n",
    "        tokens += [0] * pad_len\n",
    "        pad_masks = [1] * len(input_sequence) + [0] * pad_len\n",
    "        segment_ids = [0] * max_len\n",
    "        \n",
    "        all_tokens.append(tokens)\n",
    "        all_masks.append(pad_masks)\n",
    "        all_segments.append(segment_ids)\n",
    "    \n",
    "    return np.array(all_tokens), np.array(all_masks), np.array(all_segments)"
   ]
  },
  {
   "cell_type": "code",
   "execution_count": 23,
   "metadata": {
    "colab": {
     "base_uri": "https://localhost:8080/"
    },
    "id": "INN4F9trykTd",
    "outputId": "dd4a0ecc-09ef-429f-a74a-2ef875edd4ce"
   },
   "outputs": [
    {
     "name": "stdout",
     "output_type": "stream",
     "text": [
      "There are 7000 rows and 10 columns in train\n",
      "There are 40000 rows and 6 columns in test\n"
     ]
    }
   ],
   "source": [
    "print('There are {} rows and {} columns in train'.format(train.shape[0],train.shape[1]))\n",
    "print('There are {} rows and {} columns in test'.format(test.shape[0],test.shape[1]))"
   ]
  },
  {
   "cell_type": "code",
   "execution_count": 26,
   "metadata": {},
   "outputs": [
    {
     "data": {
      "text/plain": [
       "'D:\\\\PyData\\\\github\\\\Tbtrain-MachineReadRecord'"
      ]
     },
     "execution_count": 26,
     "metadata": {},
     "output_type": "execute_result"
    }
   ],
   "source": [
    "os.getcwd()"
   ]
  },
  {
   "cell_type": "code",
   "execution_count": 69,
   "metadata": {
    "id": "8LCmDnm_4cPy"
   },
   "outputs": [],
   "source": [
    "module_url = \"https://tfhub.dev/tensorflow/bert_en_uncased_L-24_H-1024_A-16/1\"\n",
    "module_url = \"https://tfhub.dev/tensorflow/bert_en_uncased_L-24_H-1024_A-16/1\"\n",
    "# module_url = \"https://tfhub.dev/tensorflow/small_bert/bert_en_uncased_L-4_H-512_A-8/1\"\n",
    "# module_url = \"https://tfhub.dev/tensorflow/bert_en_uncased_L-24_H-1024_A-16/3\"\n",
    "bert_layer = hub.KerasLayer(module_url, trainable=True)"
   ]
  },
  {
   "cell_type": "code",
   "execution_count": 70,
   "metadata": {
    "id": "XB1K8YPM4cSe"
   },
   "outputs": [],
   "source": [
    "BertTokenizer = bert.bert_tokenization.FullTokenizer\n",
    "vocab_file = bert_layer.resolved_object.vocab_file.asset_path.numpy()\n",
    "do_lower_case = bert_layer.resolved_object.do_lower_case.numpy()\n",
    "tokenizer = BertTokenizer(vocab_file, do_lower_case)"
   ]
  },
  {
   "cell_type": "code",
   "execution_count": 71,
   "metadata": {
    "id": "pBAlkcmn4cUr"
   },
   "outputs": [],
   "source": [
    "full_input = bert_encode(train['Title_Abstract_proc'].values, tokenizer, max_len=max_len)"
   ]
  },
  {
   "cell_type": "code",
   "execution_count": 72,
   "metadata": {
    "id": "Q78JP3f14cWe"
   },
   "outputs": [],
   "source": [
    "full_labels = train['Classifications'].values.copy()\n",
    "full_labels = train[['THEORETICAL','ENGINEERING','EMPIRICAL','OTHERS']].values.copy()\n"
   ]
  },
  {
   "cell_type": "code",
   "execution_count": 73,
   "metadata": {
    "id": "_DJSl6XX4cYr"
   },
   "outputs": [],
   "source": [
    "train_data, val_data, train_labels, val_labels = train_test_split(train['Title_Abstract_proc'].values,\n",
    "                                                                  full_labels,\n",
    "                                                                  test_size=0.15, random_state=42)"
   ]
  },
  {
   "cell_type": "code",
   "execution_count": 74,
   "metadata": {
    "id": "R0AWgcKz4cau"
   },
   "outputs": [],
   "source": [
    "train_input = bert_encode(train_data, tokenizer, max_len=max_len)\n",
    "val_input = bert_encode(val_data, tokenizer, max_len=max_len)\n",
    "test_input = bert_encode(test['Title_Abstract_proc'].values, tokenizer, max_len=max_len)"
   ]
  },
  {
   "cell_type": "code",
   "execution_count": 75,
   "metadata": {
    "colab": {
     "base_uri": "https://localhost:8080/"
    },
    "id": "rrLqi7au4k-v",
    "outputId": "e39c19cf-04f0-49c5-abcb-60c3af25ff87"
   },
   "outputs": [
    {
     "data": {
      "text/plain": [
       "[2023, 2003, 1037, 7279]"
      ]
     },
     "execution_count": 75,
     "metadata": {},
     "output_type": "execute_result"
    }
   ],
   "source": [
    "tokenizer.tokenize('this')\n",
    "tokenizer.convert_tokens_to_ids(['this', 'is', 'a', 'pen'])"
   ]
  },
  {
   "cell_type": "markdown",
   "metadata": {
    "id": "1NNCU6UA7l60"
   },
   "source": [
    "# Build Bert model"
   ]
  },
  {
   "cell_type": "code",
   "execution_count": 76,
   "metadata": {
    "id": "g1ldTkkS4lDh"
   },
   "outputs": [],
   "source": [
    "learning_rate=1e-5\n",
    "decay=5e-5\n",
    "max_len=max_len\n",
    "Dropout_num = 0.25\n",
    "lr_schedule = [9e-7,1e-8,5e-8,9e-8,7e-9,1e-9]\n",
    "K.clear_session()"
   ]
  },
  {
   "cell_type": "code",
   "execution_count": 83,
   "metadata": {
    "id": "5QEBTg5S4lFg"
   },
   "outputs": [],
   "source": [
    "def mymodel():\n",
    "    input_word_ids = Input(shape=(max_len,), dtype=tf.int32, name=\"input_word_ids\")\n",
    "    input_mask = Input(shape=(max_len,), dtype=tf.int32, name=\"input_mask\")\n",
    "    segment_ids = Input(shape=(max_len,), dtype=tf.int32, name=\"segment_ids\")\n",
    "    pooled_output, sequence_output = bert_layer([input_word_ids, input_mask, segment_ids])\n",
    "    clf_output = sequence_output[:, 0, :]\n",
    "\n",
    "    out = Dropout(Dropout_num)(clf_output)\n",
    "    out = Dense(8, activation='relu', activity_regularizer=regularizers.l2(1e-5))(out)\n",
    "\n",
    "    # out = clf_output\n",
    "    num_classes = 1#full_labels.shape[1]#len(set(full_labels))\n",
    "    out = Dense(num_classes, activation='sigmoid')(clf_output)\n",
    "\n",
    "    ## Type4\n",
    "    # out = clf_output\n",
    "    sBERT = Model(inputs=[input_word_ids, input_mask, segment_ids], outputs=out)\n",
    "    # sBERT.compile(SGD(lr=learning_rate, momentum=0.9), loss='binary_crossentropy', metrics=['accuracy',f1_m])\n",
    "\n",
    "    sBERT.compile(Adam(lr=learning_rate, decay=decay), loss='binary_crossentropy', metrics=['accuracy',f1_m])#CategoricalCrossentropy # 'accuracy',\n",
    "    sBERT.summary()\n",
    "\n",
    "    return sBERT"
   ]
  },
  {
   "cell_type": "code",
   "execution_count": 84,
   "metadata": {
    "id": "hiwzqcAR4cdK"
   },
   "outputs": [],
   "source": [
    "# init_weights = sBERT.get_weights()"
   ]
  },
  {
   "cell_type": "code",
   "execution_count": 85,
   "metadata": {
    "id": "OdI0KQhQ4cfE"
   },
   "outputs": [],
   "source": [
    "checkpoint1 = ModelCheckpoint('./model/best_val_f1_m.h5',\n",
    "                             monitor='val_f1_m',\n",
    "                             mode='max',\n",
    "                             save_best_only=True)"
   ]
  },
  {
   "cell_type": "code",
   "execution_count": 86,
   "metadata": {
    "id": "OzqZTxWZ4chG"
   },
   "outputs": [],
   "source": [
    "# # train_input, val_input,test_input, train_labels, val_labels, full_labels\n",
    "# train_history = sBERT.fit(\n",
    "#     train_input, np.array(train_labels[:,0]),\n",
    "#     epochs = 5,\n",
    "#     batch_size = 8,\n",
    "#     validation_data=(val_input, np.array(val_labels[:,0])),\n",
    "#     callbacks=[checkpoint1]\n",
    "# )"
   ]
  },
  {
   "cell_type": "code",
   "execution_count": null,
   "metadata": {
    "colab": {
     "base_uri": "https://localhost:8080/",
     "height": 792
    },
    "id": "BD1eJkVBKA9G",
    "outputId": "e7ca83e2-3a1f-482a-9d3b-45d0aa626c77"
   },
   "outputs": [
    {
     "name": "stdout",
     "output_type": "stream",
     "text": [
      "===== 0 =====\n",
      "Model: \"functional_3\"\n",
      "__________________________________________________________________________________________________\n",
      "Layer (type)                    Output Shape         Param #     Connected to                     \n",
      "==================================================================================================\n",
      "input_word_ids (InputLayer)     [(None, 120)]        0                                            \n",
      "__________________________________________________________________________________________________\n",
      "input_mask (InputLayer)         [(None, 120)]        0                                            \n",
      "__________________________________________________________________________________________________\n",
      "segment_ids (InputLayer)        [(None, 120)]        0                                            \n",
      "__________________________________________________________________________________________________\n",
      "keras_layer (KerasLayer)        [(None, 1024), (None 335141889   input_word_ids[0][0]             \n",
      "                                                                 input_mask[0][0]                 \n",
      "                                                                 segment_ids[0][0]                \n",
      "__________________________________________________________________________________________________\n",
      "tf_op_layer_strided_slice_1 (Te [(None, 1024)]       0           keras_layer[1][1]                \n",
      "__________________________________________________________________________________________________\n",
      "dense_3 (Dense)                 (None, 1)            1025        tf_op_layer_strided_slice_1[0][0]\n",
      "==================================================================================================\n",
      "Total params: 335,142,914\n",
      "Trainable params: 335,142,913\n",
      "Non-trainable params: 1\n",
      "__________________________________________________________________________________________________\n",
      "Epoch 1/5\n",
      "694/744 [==========================>...] - ETA: 9:02 - loss: 0.6014 - accuracy: 0.6871 - f1_m: 0.5020"
     ]
    }
   ],
   "source": [
    "list_sBERT=[]\n",
    "list_train_history = []\n",
    "\n",
    "\n",
    "for i in range(4):\n",
    "    print('='*5,i,'='*5)\n",
    "\n",
    "    sBERT = mymodel()\n",
    "\n",
    "\n",
    "    train_history = sBERT.fit(\n",
    "        train_input, np.array(train_labels[:,i]),\n",
    "        epochs = 5,\n",
    "        batch_size = 8,\n",
    "        validation_data=(val_input, np.array(val_labels[:,i])),\n",
    "        callbacks=[checkpoint1]\n",
    "    )\n",
    "\n",
    "    list_sBERT.append(sBERT)\n",
    "    list_train_history.append(train_history)\n"
   ]
  },
  {
   "cell_type": "markdown",
   "metadata": {
    "id": "igr_ml7wGIYS"
   },
   "source": [
    "# New Section"
   ]
  },
  {
   "cell_type": "code",
   "execution_count": null,
   "metadata": {
    "id": "67cvaqQiKA4q"
   },
   "outputs": [],
   "source": []
  },
  {
   "cell_type": "code",
   "execution_count": null,
   "metadata": {
    "id": "AW96HoGCKA2m"
   },
   "outputs": [],
   "source": []
  },
  {
   "cell_type": "code",
   "execution_count": null,
   "metadata": {
    "id": "UMQhmFQ0KA0B"
   },
   "outputs": [],
   "source": []
  },
  {
   "cell_type": "code",
   "execution_count": null,
   "metadata": {
    "id": "i2hZVZjFKAw_"
   },
   "outputs": [],
   "source": []
  },
  {
   "cell_type": "code",
   "execution_count": null,
   "metadata": {
    "id": "5tulKiGhKAnI"
   },
   "outputs": [],
   "source": []
  },
  {
   "cell_type": "code",
   "execution_count": null,
   "metadata": {
    "id": "LD0VoPO6BZjB"
   },
   "outputs": [],
   "source": [
    "sBERT.load_weights('./model/best_val_f1_m.h5')"
   ]
  },
  {
   "cell_type": "code",
   "execution_count": null,
   "metadata": {
    "id": "4EJNC6p9BZf9"
   },
   "outputs": [],
   "source": [
    "bert_encoder = Model(sBERT.inputs, sBERT.layers[-4].output)\n",
    "bert_encoder.summary()"
   ]
  },
  {
   "cell_type": "code",
   "execution_count": null,
   "metadata": {
    "id": "uxldLla7BZVO"
   },
   "outputs": [],
   "source": []
  },
  {
   "cell_type": "code",
   "execution_count": null,
   "metadata": {
    "id": "D2V71uJnBZSF"
   },
   "outputs": [],
   "source": [
    "%%time\n",
    "train_embed = bert_encoder.predict(train_input)\n",
    "test_embed = bert_encoder.predict(test_input)"
   ]
  },
  {
   "cell_type": "code",
   "execution_count": null,
   "metadata": {
    "id": "OqHSJB3l8OD-"
   },
   "outputs": [],
   "source": [
    "train_embed"
   ]
  },
  {
   "cell_type": "code",
   "execution_count": null,
   "metadata": {
    "id": "0Kx4LZY8-n5c"
   },
   "outputs": [],
   "source": [
    "test_embed"
   ]
  },
  {
   "cell_type": "code",
   "execution_count": null,
   "metadata": {
    "id": "vkUeiSau-rMs"
   },
   "outputs": [],
   "source": [
    "import pickle\n",
    "with open('Train BERT 1024d Embed', 'ab') as fo:     \n",
    "    pickle.dump(train_embed, fo)    \n",
    "\n",
    "with open('Test BERT 1024d Embed', 'ab') as fo:     \n",
    "    pickle.dump(test_embed, fo)  "
   ]
  },
  {
   "cell_type": "code",
   "execution_count": null,
   "metadata": {
    "id": "tZxFXnRP-0H0"
   },
   "outputs": [],
   "source": [
    "from sklearn.model_selection import StratifiedKFold, KFold, GridSearchCV\n",
    "from sklearn.svm import SVC"
   ]
  },
  {
   "cell_type": "code",
   "execution_count": null,
   "metadata": {
    "id": "28G_QDSI-0uU"
   },
   "outputs": [],
   "source": [
    "%%time\n",
    "ary_result = np.zeros((test_embed.shape[0],4))\n",
    "for i in range(4):\n",
    "  print(i)\n",
    "  svc_model = SVC(gamma='scale', kernel='rbf', C=3)\n",
    "  svc_model.fit(train_embed, train_labels[:,0])\n",
    "  y_hat = svc_model.predict(test_embed)\n",
    "\n",
    "  ary_result[:,i] = y_hat"
   ]
  },
  {
   "cell_type": "code",
   "execution_count": null,
   "metadata": {
    "id": "KffEwwWZBJAb"
   },
   "outputs": [],
   "source": [
    "# 'EMPIRICAL', 'ENGINEERING', 'THEORETICAL', 'OTHERS'\n",
    "df_sub['EMPIRICAL'] = ary_result[:,0]\n",
    "df_sub['ENGINEERING'] = ary_result[:,1]\n",
    "df_sub['THEORETICAL'] = ary_result[:,2]\n",
    "df_sub['OTHERS'] = ary_result[:,3]"
   ]
  },
  {
   "cell_type": "code",
   "execution_count": null,
   "metadata": {
    "id": "Kr1xqzNwBduE"
   },
   "outputs": [],
   "source": [
    "df_sub.head()"
   ]
  },
  {
   "cell_type": "code",
   "execution_count": null,
   "metadata": {
    "id": "dhIu4Vb4Bfzy"
   },
   "outputs": [],
   "source": [
    "df_sub.to_csv('bert_SVC_v2.csv')"
   ]
  },
  {
   "cell_type": "code",
   "execution_count": null,
   "metadata": {
    "id": "0mEcKDuME755"
   },
   "outputs": [],
   "source": [
    "df_sub = pd.read_csv(os.path.join(pathMain,'sample_submission.csv'))"
   ]
  },
  {
   "cell_type": "code",
   "execution_count": null,
   "metadata": {
    "id": "X1geQLceD5U2"
   },
   "outputs": [],
   "source": [
    "import xgboost as xgb"
   ]
  },
  {
   "cell_type": "code",
   "execution_count": null,
   "metadata": {
    "id": "wKggV20oFD9p"
   },
   "outputs": [],
   "source": [
    "%%time\n",
    "ary_result = np.zeros((test_embed.shape[0],4))\n",
    "for i in range(4):\n",
    "  print(i)\n",
    "  clf = xgb.XGBClassifier(max_depth=200, n_estimators=400, subsample=1, learning_rate=0.07, reg_lambda=0.1, reg_alpha=0.1, gamma=1)\n",
    "  clf.fit(train_embed, train_labels[:,i])\n",
    "\n",
    "  predictions = clf.predict(train_embed)\n",
    "  print (\"Training set f1_score :\", np.round(f1_score(train_labels[:,i], predictions),5))\n",
    "  y_hat = svc_model.predict(test_embed)\n",
    "  ary_result[:,i] = y_hat"
   ]
  },
  {
   "cell_type": "code",
   "execution_count": null,
   "metadata": {
    "id": "GUg3irqZF0zp"
   },
   "outputs": [],
   "source": [
    "df_sub = pd.read_csv(os.path.join(pathMain,'sample_submission.csv'))\n",
    "\n",
    "# 'EMPIRICAL', 'ENGINEERING', 'THEORETICAL', 'OTHERS'\n",
    "df_sub['EMPIRICAL'] = ary_result[:,0]\n",
    "df_sub['ENGINEERING'] = ary_result[:,1]\n",
    "df_sub['THEORETICAL'] = ary_result[:,2]\n",
    "df_sub['OTHERS'] = ary_result[:,3]\n",
    "df_sub.head()\n",
    "\n",
    "df_sub.to_csv('bert_xgb_v3.csv')"
   ]
  },
  {
   "cell_type": "code",
   "execution_count": null,
   "metadata": {
    "id": "Lo7lUpp7EeKK"
   },
   "outputs": [],
   "source": [
    "df_sub"
   ]
  }
 ],
 "metadata": {
  "accelerator": "GPU",
  "colab": {
   "collapsed_sections": [],
   "name": "Tbrain-MachineReadRecord.ipynb",
   "provenance": []
  },
  "kernelspec": {
   "display_name": "Python 3",
   "language": "python",
   "name": "python3"
  },
  "language_info": {
   "codemirror_mode": {
    "name": "ipython",
    "version": 3
   },
   "file_extension": ".py",
   "mimetype": "text/x-python",
   "name": "python",
   "nbconvert_exporter": "python",
   "pygments_lexer": "ipython3",
   "version": "3.7.9"
  }
 },
 "nbformat": 4,
 "nbformat_minor": 1
}
